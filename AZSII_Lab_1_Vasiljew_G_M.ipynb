{
  "nbformat": 4,
  "nbformat_minor": 0,
  "metadata": {
    "colab": {
      "provenance": []
    },
    "kernelspec": {
      "name": "python3",
      "display_name": "Python 3"
    },
    "language_info": {
      "name": "python"
    }
  },
  "cells": [
    {
      "cell_type": "markdown",
      "source": [
        "# Анализ защищенности систем искусственного интеллекта"
      ],
      "metadata": {
        "id": "YUQAhWf6CF1T"
      }
    },
    {
      "cell_type": "markdown",
      "source": [
        "### Группа: ББМО-02-23\n",
        "### Студент: Васильев Григорий Максимович\n",
        "### Вариант: 3\n"
      ],
      "metadata": {
        "id": "4ofk_bBpCZj-"
      }
    },
    {
      "cell_type": "markdown",
      "source": [
        "**Получаем копию репозитория EEL6812_DeepFool_Project на нашем локальном устройстве**"
      ],
      "metadata": {
        "id": "DvhTJ-vduElS"
      }
    },
    {
      "cell_type": "code",
      "execution_count": null,
      "metadata": {
        "colab": {
          "base_uri": "https://localhost:8080/"
        },
        "id": "am_wkVRuAv87",
        "outputId": "061076d5-2523-4681-bf08-86a1c177b0ae"
      },
      "outputs": [
        {
          "output_type": "stream",
          "name": "stdout",
          "text": [
            "Cloning into 'EEL6812_DeepFool_Project'...\n",
            "remote: Enumerating objects: 96, done.\u001b[K\n",
            "remote: Counting objects: 100% (3/3), done.\u001b[K\n",
            "remote: Compressing objects: 100% (2/2), done.\u001b[K\n",
            "remote: Total 96 (delta 2), reused 1 (delta 1), pack-reused 93 (from 1)\u001b[K\n",
            "Receiving objects: 100% (96/96), 33.99 MiB | 16.41 MiB/s, done.\n",
            "Resolving deltas: 100% (27/27), done.\n"
          ]
        }
      ],
      "source": [
        "!git clone https://github.com/ewatson2/EEL6812_DeepFool_Project"
      ]
    },
    {
      "cell_type": "markdown",
      "source": [
        "**Переходим в директорию EEL6812_DeepFool_Project, созданную ранее с помощью команды git clone**"
      ],
      "metadata": {
        "id": "UkzBUD6kuM-R"
      }
    },
    {
      "cell_type": "code",
      "source": [
        "%cd EEL6812_DeepFool_Project/"
      ],
      "metadata": {
        "colab": {
          "base_uri": "https://localhost:8080/"
        },
        "id": "wpAUMnIKA6ps",
        "outputId": "b9dc552d-5a52-40c1-bf50-e4e6895fe4bd"
      },
      "execution_count": null,
      "outputs": [
        {
          "output_type": "stream",
          "name": "stdout",
          "text": [
            "/content/EEL6812_DeepFool_Project\n"
          ]
        }
      ]
    },
    {
      "cell_type": "markdown",
      "source": [
        "**Импорт библиотек**\n",
        "\n",
        "* warnings: Модуль для управления предупреждениями, позволяющий игнорировать или фильтровать их.\n",
        "* numpy: Библиотека для работы с многомерными массивами и выполнением численных операций.\n",
        "* json: Модуль для работы с данными в формате JSON, включая их парсинг и сериализацию.\n",
        "* torch: Основная библиотека для создания и обучения нейронных сетей с использованием PyTorch.\n",
        "* torch.utils.data: Модуль, предоставляющий инструменты для загрузки и обработки данных, включая DataLoader и random_split.\n",
        "* torchvision: Библиотека для работы с изображениями, предоставляющая набор инструментов для обработки и трансформации изображений.\n",
        "* torchvision.transforms: Модуль для применения различных преобразований к изображениям, таких как нормализация и аугментация."
      ],
      "metadata": {
        "id": "_kAe_J0duQSW"
      }
    },
    {
      "cell_type": "code",
      "source": [
        "import warnings\n",
        "warnings.simplefilter(action='ignore', category=FutureWarning)\n",
        "\n",
        "import numpy as np\n",
        "import json, torch\n",
        "from torch.utils.data import DataLoader, random_split\n",
        "from torchvision import datasets, models\n",
        "from torchvision.transforms import transforms"
      ],
      "metadata": {
        "id": "TkroiW8aBcQW"
      },
      "execution_count": null,
      "outputs": []
    },
    {
      "cell_type": "markdown",
      "source": [
        "**Импортируем пользовательские модели и утилиты из соответствующих модулей проекта.**\n",
        "\n",
        "Из models.project_models загружаются архитектуры нейронных сетей, такие как FC_500_150, LeNet_CIFAR, LeNet_MNIST и Net, а из utils.project_utils — функции get_clip_bounds, evaluate_attack и display_attack, необходимые для обработки данных, оценки атак на модели и визуализации результатов."
      ],
      "metadata": {
        "id": "gQ04KekdvDH3"
      }
    },
    {
      "cell_type": "code",
      "source": [
        "from models.project_models import FC_500_150, LeNet_CIFAR, LeNet_MNIST, Net\n",
        "from utils.project_utils import get_clip_bounds, evaluate_attack, display_attack"
      ],
      "metadata": {
        "id": "Po5AENyRBoR_"
      },
      "execution_count": null,
      "outputs": []
    },
    {
      "cell_type": "code",
      "source": [
        "rand_seed = 3 # мой номер"
      ],
      "metadata": {
        "id": "byTBdltiCEvf"
      },
      "execution_count": null,
      "outputs": []
    },
    {
      "cell_type": "markdown",
      "source": [
        "**устанавливаются семена случайных чисел для двух библиотек: numpy и torch**\n",
        "\n",
        "* np.random.seed(rand_seed): Эта команда фиксирует генерацию случайных чисел в библиотеке NumPy, чтобы гарантировать воспроизводимость результатов при повторных запусках кода.\n",
        "* torch.manual_seed(rand_seed): Устанавливает тот же самый семя для генератора случайных чисел в PyTorch, что также помогает обеспечить стабильность и воспроизводимость экспериментов, особенно при работе с нейронными сетями."
      ],
      "metadata": {
        "id": "V-Z5YVHkvlGQ"
      }
    },
    {
      "cell_type": "code",
      "source": [
        "np.random.seed(rand_seed)\n",
        "torch.manual_seed(rand_seed)"
      ],
      "metadata": {
        "colab": {
          "base_uri": "https://localhost:8080/"
        },
        "id": "YkFz9WHfC2sA",
        "outputId": "6e68225f-9228-41c8-c8ef-d4ddcefc3bf0"
      },
      "execution_count": null,
      "outputs": [
        {
          "output_type": "execute_result",
          "data": {
            "text/plain": [
              "<torch._C.Generator at 0x7e4b3525dd90>"
            ]
          },
          "metadata": {},
          "execution_count": 8
        }
      ]
    },
    {
      "cell_type": "markdown",
      "source": [
        "**Выполняется импорт библиотеки torch, которая является основным пакетом для работы с тензорами и построением нейронных сетей в PyTorch**"
      ],
      "metadata": {
        "id": "OAoOz9e2vr3-"
      }
    },
    {
      "cell_type": "code",
      "source": [
        "import torch\n",
        "device = torch.device(\"cuda\")"
      ],
      "metadata": {
        "id": "wJ49mqo2C2-v"
      },
      "execution_count": null,
      "outputs": []
    },
    {
      "cell_type": "markdown",
      "source": [
        "**Задаются параметры нормализации для набора данных MNIST**, включая среднее значение и стандартное отклонение, и вычисляются минимальные и максимальные границы для обрезки значений пикселей. Затем определяются трансформации для изображений: преобразование в тензоры и нормализация, а также случайное горизонтальное отражение для обучающих изображений. После этого загружается набор данных MNIST, который делится на обучающую и валидационную выборки, а также создается тестовый набор данных с применением соответствующих трансформаций."
      ],
      "metadata": {
        "id": "jOPw3nfywrnM"
      }
    },
    {
      "cell_type": "code",
      "source": [
        "mnist_mean = 0.5  # Среднее значение для нормализации MNIST\n",
        "mnist_std = 0.5   # Стандартное отклонение для нормализации MNIST\n",
        "mnist_dim = 28    # Размерность изображений MNIST (28x28 пикселей)\n",
        "\n",
        "# Получаем минимальные и максимальные границы для обрезки значений пикселей\n",
        "mnist_min, mnist_max = get_clip_bounds(mnist_mean, mnist_std, mnist_dim)\n",
        "mnist_min = mnist_min.to(device)  # Перемещаем минимальное значение на устройство (GPU или CPU)\n",
        "mnist_max = mnist_max.to(device)  # Перемещаем максимальное значение на устройство (GPU или CPU)\n",
        "\n",
        "# Определяем трансформации для тестовых изображений MNIST\n",
        "mnist_tf = transforms.Compose([\n",
        "    transforms.ToTensor(),  # Преобразуем изображения в тензоры\n",
        "    transforms.Normalize(mean=mnist_mean, std=mnist_std)  # Нормализуем тензоры\n",
        "])\n",
        "\n",
        "# Определяем трансформации для обучающих изображений MNIST с добавлением случайного горизонтального отражения\n",
        "mnist_tf_train = transforms.Compose([\n",
        "    transforms.RandomHorizontalFlip(),  # Случайно отражаем изображения по горизонтали\n",
        "    transforms.ToTensor(),  # Преобразуем изображения в тензоры\n",
        "    transforms.Normalize(mean=mnist_mean, std=mnist_std)  # Нормализуем тензоры\n",
        "])\n",
        "\n",
        "# Обратная нормализация изображений\n",
        "mnist_tf_inv = transforms.Compose([\n",
        "    transforms.Normalize(mean=0.0, std=np.divide(1.0, mnist_std)),  # Инвертируем нормализацию для визуализации\n",
        "    transforms.Normalize(mean=np.multiply(-1.0, mnist_std), std=1.0)  # Завершаем обратную нормализацию\n",
        "])\n",
        "\n",
        "# Загружаем набор данных MNIST для обучения\n",
        "mnist_temp = datasets.MNIST(root='datasets/mnist', train=True, download=True, transform=mnist_tf_train)\n",
        "mnist_train, mnist_val = random_split(mnist_temp, [50000, 10000])  # Делим набор данных на обучающий и валидационный\n",
        "mnist_test = datasets.MNIST(root='datasets/mnist', train=False, download=True, transform=mnist_tf)  # Загружаем тестовый набор данных MNIST\n"
      ],
      "metadata": {
        "id": "DlvadgWHC3LS",
        "colab": {
          "base_uri": "https://localhost:8080/"
        },
        "outputId": "4ce4b61a-9814-4c55-b980-9d57355c3db2"
      },
      "execution_count": null,
      "outputs": [
        {
          "output_type": "stream",
          "name": "stdout",
          "text": [
            "Downloading http://yann.lecun.com/exdb/mnist/train-images-idx3-ubyte.gz\n",
            "Failed to download (trying next):\n",
            "<urlopen error [SSL: CERTIFICATE_VERIFY_FAILED] certificate verify failed: certificate has expired (_ssl.c:1007)>\n",
            "\n",
            "Downloading https://ossci-datasets.s3.amazonaws.com/mnist/train-images-idx3-ubyte.gz\n",
            "Downloading https://ossci-datasets.s3.amazonaws.com/mnist/train-images-idx3-ubyte.gz to datasets/mnist/MNIST/raw/train-images-idx3-ubyte.gz\n"
          ]
        },
        {
          "output_type": "stream",
          "name": "stderr",
          "text": [
            "100%|██████████| 9.91M/9.91M [00:10<00:00, 934kB/s] \n"
          ]
        },
        {
          "output_type": "stream",
          "name": "stdout",
          "text": [
            "Extracting datasets/mnist/MNIST/raw/train-images-idx3-ubyte.gz to datasets/mnist/MNIST/raw\n",
            "\n",
            "Downloading http://yann.lecun.com/exdb/mnist/train-labels-idx1-ubyte.gz\n",
            "Failed to download (trying next):\n",
            "<urlopen error [SSL: CERTIFICATE_VERIFY_FAILED] certificate verify failed: certificate has expired (_ssl.c:1007)>\n",
            "\n",
            "Downloading https://ossci-datasets.s3.amazonaws.com/mnist/train-labels-idx1-ubyte.gz\n",
            "Downloading https://ossci-datasets.s3.amazonaws.com/mnist/train-labels-idx1-ubyte.gz to datasets/mnist/MNIST/raw/train-labels-idx1-ubyte.gz\n"
          ]
        },
        {
          "output_type": "stream",
          "name": "stderr",
          "text": [
            "100%|██████████| 28.9k/28.9k [00:00<00:00, 137kB/s]\n"
          ]
        },
        {
          "output_type": "stream",
          "name": "stdout",
          "text": [
            "Extracting datasets/mnist/MNIST/raw/train-labels-idx1-ubyte.gz to datasets/mnist/MNIST/raw\n",
            "\n",
            "Downloading http://yann.lecun.com/exdb/mnist/t10k-images-idx3-ubyte.gz\n",
            "Failed to download (trying next):\n",
            "<urlopen error [SSL: CERTIFICATE_VERIFY_FAILED] certificate verify failed: certificate has expired (_ssl.c:1007)>\n",
            "\n",
            "Downloading https://ossci-datasets.s3.amazonaws.com/mnist/t10k-images-idx3-ubyte.gz\n",
            "Downloading https://ossci-datasets.s3.amazonaws.com/mnist/t10k-images-idx3-ubyte.gz to datasets/mnist/MNIST/raw/t10k-images-idx3-ubyte.gz\n"
          ]
        },
        {
          "output_type": "stream",
          "name": "stderr",
          "text": [
            "100%|██████████| 1.65M/1.65M [00:01<00:00, 1.28MB/s]\n"
          ]
        },
        {
          "output_type": "stream",
          "name": "stdout",
          "text": [
            "Extracting datasets/mnist/MNIST/raw/t10k-images-idx3-ubyte.gz to datasets/mnist/MNIST/raw\n",
            "\n",
            "Downloading http://yann.lecun.com/exdb/mnist/t10k-labels-idx1-ubyte.gz\n",
            "Failed to download (trying next):\n",
            "<urlopen error [SSL: CERTIFICATE_VERIFY_FAILED] certificate verify failed: certificate has expired (_ssl.c:1007)>\n",
            "\n",
            "Downloading https://ossci-datasets.s3.amazonaws.com/mnist/t10k-labels-idx1-ubyte.gz\n",
            "Downloading https://ossci-datasets.s3.amazonaws.com/mnist/t10k-labels-idx1-ubyte.gz to datasets/mnist/MNIST/raw/t10k-labels-idx1-ubyte.gz\n"
          ]
        },
        {
          "output_type": "stream",
          "name": "stderr",
          "text": [
            "100%|██████████| 4.54k/4.54k [00:00<00:00, 3.09MB/s]"
          ]
        },
        {
          "output_type": "stream",
          "name": "stdout",
          "text": [
            "Extracting datasets/mnist/MNIST/raw/t10k-labels-idx1-ubyte.gz to datasets/mnist/MNIST/raw\n",
            "\n"
          ]
        },
        {
          "output_type": "stream",
          "name": "stderr",
          "text": [
            "\n"
          ]
        }
      ]
    },
    {
      "cell_type": "markdown",
      "source": [
        "**Тут происходит подготовка данных для работы с набором CIFAR-10**. Сначала задаются средние значения и стандартные отклонения для нормализации изображений, затем определяются минимальные и максимальные границы для обрезки значений пикселей. Устанавливаются трансформации для обучения и тестирования, включая случайную обрезку, горизонтальное отражение и нормализацию. Далее загружается обучающий и тестовый набор данных CIFAR-10, при этом обучающий набор разбивается на обучающую и валидационную выборки. В конце задаются названия классов, содержащихся в наборе данных."
      ],
      "metadata": {
        "id": "5zU6IT9SxRFi"
      }
    },
    {
      "cell_type": "code",
      "source": [
        "cifar_mean = [0.491, 0.482, 0.447]  # Средние значения для каждого канала (RGB) в наборе данных CIFAR-10\n",
        "cifar_std = [0.202, 0.199, 0.201]   # Стандартные отклонения для каждого канала (RGB) в наборе данных CIFAR-10\n",
        "cifar_dim = 32                      # Размер изображения в пикселях\n",
        "\n",
        "cifar_min, cifar_max = get_clip_bounds(cifar_mean, cifar_std, cifar_dim)  # Получаем минимальные и максимальные границы для обрезки значений пикселей\n",
        "cifar_min = cifar_min.to(device)  # Переносим минимальное значение на выбранное устройство (GPU/CPU)\n",
        "cifar_max = cifar_max.to(device)  # Переносим максимальное значение на выбранное устройство (GPU/CPU)\n",
        "\n",
        "cifar_tf = transforms.Compose([transforms.ToTensor(), transforms.Normalize(mean=cifar_mean, std=cifar_std)])  # Определяем трансформации: преобразование в тензоры и нормализация\n",
        "cifar_tf_train = transforms.Compose([transforms.RandomCrop(size=cifar_dim, padding=4),  # Случайная обрезка с добавлением отступа\n",
        "                                     transforms.RandomHorizontalFlip(),  # Случайное горизонтальное отражение\n",
        "                                     transforms.ToTensor(),  # Преобразование в тензоры\n",
        "                                     transforms.Normalize(mean=cifar_mean, std=cifar_std)])  # Нормализация\n",
        "\n",
        "cifar_tf_inv = transforms.Compose([transforms.Normalize(mean=[0.0, 0.0, 0.0], std=np.divide(1.0,cifar_std)),  # Инверсия нормализации для визуализации\n",
        "                                    transforms.Normalize(mean=np.multiply(-1.0, cifar_mean), std=[1.0, 1.0, 1.0])])  # Инверсия нормализации для визуализации\n",
        "\n",
        "cifar_temp = datasets.CIFAR10(root='datasets/cifar-10', train=True, download=True, transform=cifar_tf_train)  # Загружаем обучающий набор данных CIFAR-10 с применением трансформаций\n",
        "cifar_train, cifar_val = random_split(cifar_temp, [40000, 10000])  # Разделяем данные на обучающую (40000) и валидационную (10000) выборки\n",
        "cifar_test = datasets.CIFAR10(root='datasets/cifar-10', train=False, download=True, transform=cifar_tf)  # Загружаем тестовый набор данных CIFAR-10 с применением трансформаций\n",
        "\n",
        "cifar_classes = ['airplane', 'automobile', 'bird', 'cat', 'deer', 'dog', 'frog', 'horse', 'ship', 'truck']  # Названия классов в наборе данных CIFAR-10\n"
      ],
      "metadata": {
        "colab": {
          "base_uri": "https://localhost:8080/"
        },
        "id": "k9ir3hlZC3Wx",
        "outputId": "54a24854-9c8a-48f4-b2f4-ad6fc37e6992"
      },
      "execution_count": null,
      "outputs": [
        {
          "output_type": "stream",
          "name": "stdout",
          "text": [
            "Downloading https://www.cs.toronto.edu/~kriz/cifar-10-python.tar.gz to datasets/cifar-10/cifar-10-python.tar.gz\n"
          ]
        },
        {
          "output_type": "stream",
          "name": "stderr",
          "text": [
            "100%|██████████| 170M/170M [00:12<00:00, 13.4MB/s]\n"
          ]
        },
        {
          "output_type": "stream",
          "name": "stdout",
          "text": [
            "Extracting datasets/cifar-10/cifar-10-python.tar.gz to datasets/cifar-10\n",
            "Files already downloaded and verified\n"
          ]
        }
      ]
    },
    {
      "cell_type": "markdown",
      "source": [
        "**Далее в коде создаются загрузчики данных (DataLoader) для обучающего, валидационного и тестового наборов изображений MNIST и CIFAR-10**. Загрузчики данных позволяют организовать выборки изображений в пакеты заданного размера (batch_size), что упрощает процесс обучения модели. Для обучающего набора используется перемешивание данных (shuffle=True) для повышения общей надежности обучения, в то время как валидационные и тестовые наборы загружаются в том же порядке, в котором находятся в данных (shuffle=False). Также указано количество рабочих процессов (workers), которые будут использоваться для загрузки данных, что ускоряет процесс обработки."
      ],
      "metadata": {
        "id": "pcwBWzOcxl53"
      }
    },
    {
      "cell_type": "code",
      "source": [
        "batch_size = 64  # Размер пакета (количество изображений в одной итерации)\n",
        "workers = 2  # Количество рабочих процессов для загрузки данных\n",
        "\n",
        "# Загрузчик данных для тренировочного набора MNIST\n",
        "mnist_loader_train  = DataLoader(mnist_train, batch_size=batch_size, shuffle=True,  num_workers=workers)\n",
        "# Загрузчик данных для валидационного набора MNIST (без перемешивания)\n",
        "mnist_loader_val    = DataLoader(mnist_val,   batch_size=batch_size, shuffle=False, num_workers=workers)\n",
        "# Загрузчик данных для тестового набора MNIST (без перемешивания)\n",
        "mnist_loader_test   = DataLoader(mnist_test,  batch_size=batch_size, shuffle=False, num_workers=workers)\n",
        "\n",
        "# Загрузчик данных для тренировочного набора CIFAR (с перемешиванием)\n",
        "cifar_loader_train  = DataLoader(cifar_train, batch_size=batch_size, shuffle=True,  num_workers=workers)\n",
        "# Загрузчик данных для валидационного набора CIFAR (без перемешивания)\n",
        "cifar_loader_val    = DataLoader(cifar_val,   batch_size=batch_size, shuffle=False, num_workers=workers)\n",
        "# Загрузчик данных для тестового набора CIFAR (без перемешивания)\n",
        "cifar_loader_test   = DataLoader(cifar_test,  batch_size=batch_size, shuffle=False, num_workers=workers)\n"
      ],
      "metadata": {
        "id": "dUJu1w5JC3gb"
      },
      "execution_count": null,
      "outputs": []
    },
    {
      "cell_type": "markdown",
      "source": [
        "Далее **происходит оценка эффективности атак FGSM и DeepFool на модели LeNet, обученной на датасете MNIST**. Для каждого значения epsilon из заданного списка (ZADANIE) модель загружается и используется для проведения атаки FGSM, результаты которой сохраняются в CSV-файл. Затем выполняется атака DeepFool с заданными параметрами, и результаты также сохраняются в другой CSV-файл. В конце, если используется GPU, очищается кеш CUDA для освобождения памяти."
      ],
      "metadata": {
        "id": "Y1-XHJiByDaO"
      }
    },
    {
      "cell_type": "code",
      "source": [
        "ZADANIE = [0.001, 0.02, 0.2, 0.5, 0.9, 10]  # Определяем список значений epsilon для атаки FGSM\n",
        "\n",
        "for _ in ZADANIE:\n",
        "    fgsm_eps = _  # Устанавливаем текущее значение eps для FGSM\n",
        "    print(f'\\n\\n\\n\\nПри fgsm_eps = {fgsm_eps}')  # Выводим текущее значение eps в консоль\n",
        "\n",
        "    model = LeNet_MNIST().to(device)  # Создаем экземпляр модели LeNet для MNIST и переносим её на устройство (GPU или CPU)\n",
        "    model.load_state_dict(torch.load('weights/clean/mnist_lenet.pth', map_location=torch.device('cpu')))  # Загружаем предварительно обученные веса модели\n",
        "\n",
        "    # Оцениваем эффективность атаки FGSM и сохраняем результаты в CSV файл\n",
        "    evaluate_attack('mnist_lenet_fgsm.csv', 'results', device, model, mnist_loader_test, mnist_min, mnist_max, fgsm_eps, is_fgsm=True)\n",
        "\n",
        "    batch = 64  # Устанавливаем размер пакета\n",
        "    num_classes = 10  # Количество классов в MNIST\n",
        "    overshoot = 0.02  # Параметр overshoot для метода DeepFool\n",
        "    max_iter = 50  # Максимальное количество итераций для метода DeepFool\n",
        "    deep_arg = [batch, num_classes, overshoot, max_iter]  # Список аргументов для DeepFool\n",
        "\n",
        "    # Оцениваем эффективность атаки DeepFool и сохраняем результаты в CSV файл\n",
        "    evaluate_attack('mnist_lenet_deepfool.csv', 'results', device, model, mnist_loader_test, mnist_min, mnist_max, deep_arg, is_fgsm=False)\n",
        "\n",
        "    if device.type == 'cuda':\n",
        "        torch.cuda.empty_cache()  # Очищаем кеш CUDA, если используется GPU\n"
      ],
      "metadata": {
        "colab": {
          "base_uri": "https://localhost:8080/"
        },
        "id": "Qgs3BgunC3qV",
        "outputId": "a02f754b-6952-43f1-e646-13696b86e3be"
      },
      "execution_count": null,
      "outputs": [
        {
          "output_type": "stream",
          "name": "stdout",
          "text": [
            "\n",
            "\n",
            "\n",
            "\n",
            "При fgsm_eps = 0.001\n",
            "FGSM Test Error : 87.89%\n",
            "FGSM Robustness : 4.58e-01\n",
            "FGSM Time (All Images) : 0.29 s\n",
            "FGSM Time (Per Image) : 28.86 us\n",
            "DeepFool Test Error : 98.74%\n",
            "DeepFool Robustness : 9.64e-02\n",
            "DeepFool Time (All Images) : 193.32 s\n",
            "DeepFool Time (Per Image) : 19.33 ms\n",
            "\n",
            "\n",
            "\n",
            "\n",
            "При fgsm_eps = 0.02\n",
            "FGSM Test Error : 87.89%\n",
            "FGSM Robustness : 4.58e-01\n",
            "FGSM Time (All Images) : 0.29 s\n",
            "FGSM Time (Per Image) : 28.86 us\n",
            "DeepFool Test Error : 98.74%\n",
            "DeepFool Robustness : 9.64e-02\n",
            "DeepFool Time (All Images) : 193.32 s\n",
            "DeepFool Time (Per Image) : 19.33 ms\n",
            "\n",
            "\n",
            "\n",
            "\n",
            "При fgsm_eps = 0.2\n",
            "FGSM Test Error : 87.89%\n",
            "FGSM Robustness : 4.58e-01\n",
            "FGSM Time (All Images) : 0.29 s\n",
            "FGSM Time (Per Image) : 28.86 us\n",
            "DeepFool Test Error : 98.74%\n",
            "DeepFool Robustness : 9.64e-02\n",
            "DeepFool Time (All Images) : 193.32 s\n",
            "DeepFool Time (Per Image) : 19.33 ms\n",
            "\n",
            "\n",
            "\n",
            "\n",
            "При fgsm_eps = 0.5\n",
            "FGSM Test Error : 87.89%\n",
            "FGSM Robustness : 4.58e-01\n",
            "FGSM Time (All Images) : 0.29 s\n",
            "FGSM Time (Per Image) : 28.86 us\n",
            "DeepFool Test Error : 98.74%\n",
            "DeepFool Robustness : 9.64e-02\n",
            "DeepFool Time (All Images) : 193.32 s\n",
            "DeepFool Time (Per Image) : 19.33 ms\n",
            "\n",
            "\n",
            "\n",
            "\n",
            "При fgsm_eps = 0.9\n",
            "FGSM Test Error : 87.89%\n",
            "FGSM Robustness : 4.58e-01\n",
            "FGSM Time (All Images) : 0.29 s\n",
            "FGSM Time (Per Image) : 28.86 us\n",
            "DeepFool Test Error : 98.74%\n",
            "DeepFool Robustness : 9.64e-02\n",
            "DeepFool Time (All Images) : 193.32 s\n",
            "DeepFool Time (Per Image) : 19.33 ms\n",
            "\n",
            "\n",
            "\n",
            "\n",
            "При fgsm_eps = 10\n",
            "FGSM Test Error : 87.89%\n",
            "FGSM Robustness : 4.58e-01\n",
            "FGSM Time (All Images) : 0.29 s\n",
            "FGSM Time (Per Image) : 28.86 us\n",
            "DeepFool Test Error : 98.74%\n",
            "DeepFool Robustness : 9.64e-02\n",
            "DeepFool Time (All Images) : 193.32 s\n",
            "DeepFool Time (Per Image) : 19.33 ms\n"
          ]
        }
      ]
    },
    {
      "cell_type": "markdown",
      "source": [
        "**В первой части отрывка компиляции, взятого для примера**, происходит оценка модели LeNet на наборе данных MNIST с использованием атак FGSM и DeepFool для различных значений параметра epsilon (fgsm_eps).\n",
        "\n",
        "* При fgsm_eps = 0.001: Указывает текущее значение параметра epsilon для атаки FGSM.\n",
        "\n",
        "* FGSM Test Error : 87.89%: Процент ошибок модели после атаки FGSM, что означает, что 87.89% изображений были неправильно классифицированы моделью.\n",
        "\n",
        "* FGSM Robustness : 4.58e-01: Этот показатель указывает на устойчивость модели к атаке FGSM, что в данном случае означает, что 45.8% изображений были правильно классифицированы после применения атаки (т.е. 100% - 87.89% ошибок).\n",
        "\n",
        "* FGSM Time (All Images) : 0.29 s: Общее время, затраченное на выполнение атаки FGSM на всех изображениях в тестовом наборе, составляет 0.29 секунды.\n",
        "\n",
        "* FGSM Time (Per Image) : 28.86 us: Среднее время, затраченное на выполнение атаки FGSM для одного изображения, составляет 28.86 микросекунд.\n",
        "\n",
        "* DeepFool Test Error : 98.74%: Процент ошибок модели после атаки DeepFool, что означает, что 98.74% изображений были неправильно классифицированы моделью.\n",
        "\n",
        "* DeepFool Robustness : 9.64e-02: Этот показатель указывает на устойчивость модели к атаке DeepFool, что означает, что только 9.64% изображений были правильно классифицированы после применения атаки.\n",
        "\n",
        "* DeepFool Time (All Images) : 193.32 s: Общее время, затраченное на выполнение атаки DeepFool на всех изображениях в тестовом наборе, составляет 193.32 секунды.\n",
        "\n",
        "* DeepFool Time (Per Image) : 19.33 ms: Среднее время, затраченное на выполнение атаки DeepFool для одного изображения, составляет 19.33 миллисекунд."
      ],
      "metadata": {
        "id": "qiwqZp7rykyC"
      }
    },
    {
      "cell_type": "markdown",
      "source": [
        "**Вывод:**\n",
        "\n",
        "Эти результаты показывают, что изменение параметра eps для FGSM не влияет на точность атаки и устойчивость модели к FGSM или DeepFool. Значения ошибки теста FGSM (87.89%) и робастности FGSM (4.58e-01) остаются неизменными, что предполагает, что модель достигла предела своей устойчивости к FGSM-атакам даже при минимальном eps. Время выполнения FGSM также остается одинаковым (0.29 секунды для всех изображений).\n",
        "\n",
        "Показатели для DeepFool также остаются постоянными независимо от eps, с ошибкой теста DeepFool (98.74%) и робастностью DeepFool (9.64e-02). Это указывает на то, что DeepFool оказывает постоянное сильное влияние на модель, и его устойчивость не зависит от параметра eps FGSM. Время выполнения DeepFool стабильно значительно выше, что связано с его более сложным алгоритмом (193.32 секунды для всех изображений).\n",
        "\n",
        "Таким образом, результаты подтверждают слабую устойчивость модели к FGSM и DeepFool атакам и демонстрируют, что изменение eps в FGSM не оказывает видимого влияния на эффективность этих атак."
      ],
      "metadata": {
        "id": "qWS9WB9_NICP"
      }
    },
    {
      "cell_type": "markdown",
      "source": [
        "В следующем **коде происходит оценка устойчивости модели FC_500_150 к атакам FGSM и DeepFool на тестовом наборе данных MNIST**. Для каждого значения epsilon из списка ZADANIE сначала загружается модель с предобученными весами, затем вызывается функция evaluate_attack для выполнения атаки FGSM и сохранения результатов в CSV файл. После этого настраиваются параметры для атаки DeepFool, включая размер пакета, количество классов и максимальное количество итераций, и снова вызывается evaluate_attack для этой атаки с сохранением результатов в другой CSV файл. В конце, если используется графический процессор (CUDA), очищается кэш для освобождения памяти."
      ],
      "metadata": {
        "id": "bmZlnkPezXsO"
      }
    },
    {
      "cell_type": "code",
      "source": [
        "ZADANIE = [0.001, 0.02, 0.2, 0.5, 0.9, 10]  # Список значений epsilon для атаки FGSM\n",
        "\n",
        "for _ in ZADANIE:\n",
        "  fgsm_eps = _  # Текущая величина epsilon из списка\n",
        "  print(f'\\n\\nПри fgsm_eps = {fgsm_eps}')  # Выводим текущее значение epsilon\n",
        "\n",
        "  model = FC_500_150().to(device)  # Создаем экземпляр модели FC_500_150 и переносим ее на заданное устройство (GPU или CPU)\n",
        "  model.load_state_dict(torch.load('weights/clean/mnist_fc.pth', map_location=torch.device('cpu')))  # Загружаем предварительно обученные веса модели из файла\n",
        "\n",
        "  evaluate_attack('mnist_fc_fgsm.csv', 'results', device, model, mnist_loader_test, mnist_min, mnist_max, fgsm_eps, is_fgsm=True)\n",
        "  # Выполняем оценку атаки FGSM, результаты сохраняем в CSV файл\n",
        "\n",
        "  print('')  # Печатаем пустую строку для улучшения читаемости вывода\n",
        "\n",
        "  batch = 64  # Размер пакета для атаки DeepFool\n",
        "  num_classes = 10  # Количество классов в наборе данных MNIST\n",
        "  overshoot = 0.02  # Параметр для DeepFool, определяющий \"переброс\" над целевым классом\n",
        "  max_iter = 50  # Максимальное количество итераций для атаки DeepFool\n",
        "  deep_arg = [batch, num_classes, overshoot, max_iter]  # Аргументы для функции атаки DeepFool\n",
        "\n",
        "  evaluate_attack('mnist_fc_deepfool.csv', 'results', device, model, mnist_loader_test, mnist_min, mnist_max, deep_arg, is_fgsm=False)\n",
        "  # Выполняем оценку атаки DeepFool, результаты сохраняем в другой CSV файл\n",
        "\n",
        "  if device.type == 'cuda':  # Проверяем, используется ли CUDA\n",
        "    torch.cuda.empty_cache()  # Очищаем кэш GPU для освобождения памяти\n"
      ],
      "metadata": {
        "colab": {
          "base_uri": "https://localhost:8080/"
        },
        "id": "2pz-z0D0C3zs",
        "outputId": "1eb63d13-34b8-4249-8d56-06110041cc3d"
      },
      "execution_count": null,
      "outputs": [
        {
          "output_type": "stream",
          "name": "stdout",
          "text": [
            "\n",
            "\n",
            "При fgsm_eps = 0.001\n",
            "FGSM Test Error : 87.08%\n",
            "FGSM Robustness : 1.56e-01\n",
            "FGSM Time (All Images) : 0.15 s\n",
            "FGSM Time (Per Image) : 14.99 us\n",
            "\n",
            "DeepFool Test Error : 97.92%\n",
            "DeepFool Robustness : 6.78e-02\n",
            "DeepFool Time (All Images) : 141.81 s\n",
            "DeepFool Time (Per Image) : 14.18 ms\n",
            "\n",
            "\n",
            "При fgsm_eps = 0.02\n",
            "FGSM Test Error : 87.08%\n",
            "FGSM Robustness : 1.56e-01\n",
            "FGSM Time (All Images) : 0.15 s\n",
            "FGSM Time (Per Image) : 14.99 us\n",
            "\n",
            "DeepFool Test Error : 97.92%\n",
            "DeepFool Robustness : 6.78e-02\n",
            "DeepFool Time (All Images) : 141.81 s\n",
            "DeepFool Time (Per Image) : 14.18 ms\n",
            "\n",
            "\n",
            "При fgsm_eps = 0.2\n",
            "FGSM Test Error : 87.08%\n",
            "FGSM Robustness : 1.56e-01\n",
            "FGSM Time (All Images) : 0.15 s\n",
            "FGSM Time (Per Image) : 14.99 us\n",
            "\n",
            "DeepFool Test Error : 97.92%\n",
            "DeepFool Robustness : 6.78e-02\n",
            "DeepFool Time (All Images) : 141.81 s\n",
            "DeepFool Time (Per Image) : 14.18 ms\n",
            "\n",
            "\n",
            "При fgsm_eps = 0.5\n",
            "FGSM Test Error : 87.08%\n",
            "FGSM Robustness : 1.56e-01\n",
            "FGSM Time (All Images) : 0.15 s\n",
            "FGSM Time (Per Image) : 14.99 us\n",
            "\n",
            "DeepFool Test Error : 97.92%\n",
            "DeepFool Robustness : 6.78e-02\n",
            "DeepFool Time (All Images) : 141.81 s\n",
            "DeepFool Time (Per Image) : 14.18 ms\n",
            "\n",
            "\n",
            "При fgsm_eps = 0.9\n",
            "FGSM Test Error : 87.08%\n",
            "FGSM Robustness : 1.56e-01\n",
            "FGSM Time (All Images) : 0.15 s\n",
            "FGSM Time (Per Image) : 14.99 us\n",
            "\n",
            "DeepFool Test Error : 97.92%\n",
            "DeepFool Robustness : 6.78e-02\n",
            "DeepFool Time (All Images) : 141.81 s\n",
            "DeepFool Time (Per Image) : 14.18 ms\n",
            "\n",
            "\n",
            "При fgsm_eps = 10\n",
            "FGSM Test Error : 87.08%\n",
            "FGSM Robustness : 1.56e-01\n",
            "FGSM Time (All Images) : 0.15 s\n",
            "FGSM Time (Per Image) : 14.99 us\n",
            "\n",
            "DeepFool Test Error : 97.92%\n",
            "DeepFool Robustness : 6.78e-02\n",
            "DeepFool Time (All Images) : 141.81 s\n",
            "DeepFool Time (Per Image) : 14.18 ms\n"
          ]
        }
      ]
    },
    {
      "cell_type": "markdown",
      "source": [
        "**Вывод:**\n",
        "\n",
        "Эти результаты показывают, что увеличение значения eps для атаки FGSM не оказывает видимого влияния на результаты теста, так как ошибка теста FGSM (87.08%) и робастность FGSM (1.56e-01) остаются неизменными для всех eps. Это свидетельствует о том, что модель либо уже уязвима к FGSM при очень малых eps, либо эта атака не достигает достаточного искажения для влияния на производительность.\n",
        "\n",
        "Для атаки DeepFool, несмотря на изменение eps для FGSM, показатели ошибки теста DeepFool (97.92%) и робастности DeepFool (6.78e-02) остаются неизменными. Это указывает на то, что DeepFool оказывает постоянное сильное влияние на модель, не зависящее от eps значения FGSM.\n",
        "\n",
        "Время выполнения атак также стабильно: для FGSM оно составляет около 0.15 секунд для всех изображений, что объясняется простотой алгоритма, а для DeepFool значительно выше — около 141 секунд, что характерно для более сложного алгоритма.\n",
        "\n",
        "Эти стабильные результаты могут указывать на ограниченную эффективность FGSM или на то, что DeepFool имеет постоянный и сильный эффект независимо от вариации eps для FGSM."
      ],
      "metadata": {
        "id": "mwgGOMKQMyGe"
      }
    },
    {
      "cell_type": "markdown",
      "source": [
        "Далее тут **происходит оценка устойчивости модели к атакам FGSM и DeepFool на наборе данных, используя различные значения параметра эпсилон (fgsm_eps) для FGSM**. Для каждой итерации из заданного списка значений эпсилон инициализируется модель Net, загружаются ее предварительно обученные веса, и затем выполняется оценка атаки FGSM, результаты которой сохраняются в файл CSV. Далее задаются параметры для атаки DeepFool, и происходит оценка этой атаки с сохранением результатов в другой CSV файл. В конце очищается кэш GPU, если используется CUDA, для освобождения памяти."
      ],
      "metadata": {
        "id": "elXwna7LzRum"
      }
    },
    {
      "cell_type": "code",
      "source": [
        "ZADANIE = [0.001, 0.02, 0.2, 0.5, 0.9, 10]  # Задаем список значений эпсилон для атаки FGSM\n",
        "\n",
        "for _ in ZADANIE:\n",
        "  fgsm_eps = _  # Устанавливаем текущее значение эпсилон для FGSM\n",
        "  print(f'\\n\\nПри fgsm_eps = {fgsm_eps}')  # Выводим текущее значение эпсилон\n",
        "\n",
        "  model = Net().to(device)  # Инициализируем модель (Net) и переводим ее на нужное устройство (CPU или GPU)\n",
        "  model.load_state_dict(torch.load('weights/clean/cifar_nin.pth', map_location=torch.device('cpu')))  # Загружаем предварительно обученные веса модели\n",
        "\n",
        "  # Оцениваем атаку FGSM и сохраняем результаты в указанный CSV файл\n",
        "  evaluate_attack('mnist_fc_fgsm.csv', 'results', device, model, mnist_loader_test, mnist_min, mnist_max, fgsm_eps, is_fgsm=True)\n",
        "\n",
        "  print('')  # Печатаем пустую строку для удобства вывода\n",
        "\n",
        "  batch = 64  # Устанавливаем размер батча\n",
        "  num_classes = 10  # Количество классов в наборе данных\n",
        "  overshoot = 0.02  # Параметр overshoot для DeepFool\n",
        "  max_iter = 50  # Максимальное количество итераций для DeepFool\n",
        "  deep_arg = [batch, num_classes, overshoot, max_iter]  # Создаем список аргументов для DeepFool\n",
        "\n",
        "  # Оцениваем атаку DeepFool и сохраняем результаты в указанный CSV файл\n",
        "  evaluate_attack('mnist_fc_deepfool.csv', 'results', device, model, mnist_loader_test, mnist_min, mnist_max, deep_arg, is_fgsm=False)\n",
        "\n",
        "  # Очищаем кэш GPU, если используется CUDA\n",
        "  if device.type == 'cuda':\n",
        "    torch.cuda.empty_cache()\n"
      ],
      "metadata": {
        "colab": {
          "base_uri": "https://localhost:8080/"
        },
        "id": "R4d3r9yYrlLO",
        "outputId": "bcbd7a25-25f3-449c-ac28-5c6e461868df"
      },
      "execution_count": null,
      "outputs": [
        {
          "output_type": "stream",
          "name": "stdout",
          "text": [
            "\n",
            "\n",
            "При fgsm_eps = 0.001\n",
            "FGSM Test Error : 87.08%\n",
            "FGSM Robustness : 1.56e-01\n",
            "FGSM Time (All Images) : 0.15 s\n",
            "FGSM Time (Per Image) : 14.99 us\n",
            "\n",
            "DeepFool Test Error : 97.92%\n",
            "DeepFool Robustness : 6.78e-02\n",
            "DeepFool Time (All Images) : 141.81 s\n",
            "DeepFool Time (Per Image) : 14.18 ms\n",
            "\n",
            "\n",
            "При fgsm_eps = 0.02\n",
            "FGSM Test Error : 87.08%\n",
            "FGSM Robustness : 1.56e-01\n",
            "FGSM Time (All Images) : 0.15 s\n",
            "FGSM Time (Per Image) : 14.99 us\n",
            "\n",
            "DeepFool Test Error : 97.92%\n",
            "DeepFool Robustness : 6.78e-02\n",
            "DeepFool Time (All Images) : 141.81 s\n",
            "DeepFool Time (Per Image) : 14.18 ms\n",
            "\n",
            "\n",
            "При fgsm_eps = 0.2\n",
            "FGSM Test Error : 87.08%\n",
            "FGSM Robustness : 1.56e-01\n",
            "FGSM Time (All Images) : 0.15 s\n",
            "FGSM Time (Per Image) : 14.99 us\n",
            "\n",
            "DeepFool Test Error : 97.92%\n",
            "DeepFool Robustness : 6.78e-02\n",
            "DeepFool Time (All Images) : 141.81 s\n",
            "DeepFool Time (Per Image) : 14.18 ms\n",
            "\n",
            "\n",
            "При fgsm_eps = 0.5\n",
            "FGSM Test Error : 87.08%\n",
            "FGSM Robustness : 1.56e-01\n",
            "FGSM Time (All Images) : 0.15 s\n",
            "FGSM Time (Per Image) : 14.99 us\n",
            "\n",
            "DeepFool Test Error : 97.92%\n",
            "DeepFool Robustness : 6.78e-02\n",
            "DeepFool Time (All Images) : 141.81 s\n",
            "DeepFool Time (Per Image) : 14.18 ms\n",
            "\n",
            "\n",
            "При fgsm_eps = 0.9\n",
            "FGSM Test Error : 87.08%\n",
            "FGSM Robustness : 1.56e-01\n",
            "FGSM Time (All Images) : 0.15 s\n",
            "FGSM Time (Per Image) : 14.99 us\n",
            "\n",
            "DeepFool Test Error : 97.92%\n",
            "DeepFool Robustness : 6.78e-02\n",
            "DeepFool Time (All Images) : 141.81 s\n",
            "DeepFool Time (Per Image) : 14.18 ms\n",
            "\n",
            "\n",
            "При fgsm_eps = 10\n",
            "FGSM Test Error : 87.08%\n",
            "FGSM Robustness : 1.56e-01\n",
            "FGSM Time (All Images) : 0.15 s\n",
            "FGSM Time (Per Image) : 14.99 us\n",
            "\n",
            "DeepFool Test Error : 97.92%\n",
            "DeepFool Robustness : 6.78e-02\n",
            "DeepFool Time (All Images) : 141.81 s\n",
            "DeepFool Time (Per Image) : 14.18 ms\n"
          ]
        }
      ]
    },
    {
      "cell_type": "markdown",
      "source": [
        "**Вывод:**\n",
        "\n",
        "Эти результаты показывают, что изменение параметра fgsm_eps не влияет на показатели модели при атаках FGSM и DeepFool. Для всех значений eps, точность модели после атаки FGSM остаётся стабильной, с ошибкой теста FGSM на уровне 87.08%, и робастность FGSM также не меняется (1.56e-01). Это может свидетельствовать о том, что модель не чувствительна к небольшим изменениям eps в данном диапазоне.\n",
        "\n",
        "Для атаки DeepFool ситуация аналогична: ошибка теста DeepFool остаётся на уровне 97.92%, а робастность DeepFool остаётся неизменной на уровне 6.78e-02. Это говорит о том, что DeepFool стабильно ухудшает точность модели независимо от eps в атаке FGSM.\n",
        "\n",
        "Время выполнения FGSM остаётся неизменным и достаточно малым — 0.15 секунд для всех изображений (14.99 микросекунд на одно изображение), что говорит о его низкой вычислительной сложности. В то же время DeepFool занимает значительно больше времени — 141.81 секунды на все изображения (14.18 миллисекунд на одно изображение), что согласуется с его более сложным алгоритмом.\n",
        "\n",
        "Итак, эти данные свидетельствуют о том, что изменение fgsm_eps в данном диапазоне не оказывает влияния на эффективность атак FGSM и DeepFool, и что DeepFool остаётся более сложной и более разрушительной атакой для данной модели."
      ],
      "metadata": {
        "id": "1jS8SNfcMMDg"
      }
    },
    {
      "cell_type": "markdown",
      "source": [
        "##**Визуализация атакованных примеров изображений из датасета MNIST при различных значениях eps (параметра атаки FGSM)**\n",
        "\n",
        "**Функция display_attack_examples отвечает:**\n",
        "* model – модель, на основе которой выполняется атака (например, LeNet для MNIST).\n",
        "* test_loader – DataLoader с тестовыми данными.\n",
        "* eps_values – список значений eps, которые будут использоваться в FGSM атаке.\n",
        "* device – устройство, на котором выполняются вычисления (CPU или CUDA).\n",
        "* clip_min и clip_max – значения, которые ограничивают диапазон значений пикселей (например, от 0 до 1).\n",
        "* num_images – количество изображений, которые будут визуализированы (по умолчанию 5).\n",
        "\n",
        "\n"
      ],
      "metadata": {
        "id": "W5ZurJhAnWfD"
      }
    },
    {
      "cell_type": "code",
      "source": [
        "import matplotlib.pyplot as plt\n",
        "\n",
        "def display_attack_examples(model, test_loader, eps_values, device, clip_min, clip_max, num_images=5):\n",
        "    model.eval() #Устанавливаем модель в режим оценки (eval()), чтобы отключить слои, такие как Dropout, которые активны только в режиме тренировки.\n",
        "    images, labels = next(iter(test_loader)) #Берем первую партию изображений и меток из тестового загрузчика данных.\n",
        "    images, labels = images[:num_images].to(device), labels[:num_images].to(device)\n",
        "\n",
        "    fig, axes = plt.subplots(num_images, len(eps_values) + 1, figsize=(15, 5 * num_images)) #Создаем сетку графиков с количеством строк, равным количеству изображений (num_images)\n",
        "    for i in range(num_images):\n",
        "        # оригинальное изображение\n",
        "        # Преобразуем тензор изображения в формат, совместимый с matplotlib (переносим на CPU, удаляем лишние измерения с помощью squeeze)\n",
        "        # Используем метод imshow для визуализации, задаем заголовок с указанием метки (Label) и отключаем оси для более чистого отображения\n",
        "        orig_img = images[i].detach().cpu().squeeze().numpy()  # отсоединить перед конвертацией в numpy\n",
        "        axes[i, 0].imshow(orig_img, cmap='gray')\n",
        "        axes[i, 0].set_title(f\"Original (Label: {labels[i].item()})\")\n",
        "        axes[i, 0].axis('off')\n",
        "\n",
        "        for j, eps in enumerate(eps_values): #Внешний цикл проходит по всем значениям eps, которые были переданы в функцию\n",
        "            perturbed_images = images.clone().detach() # Клонируем оригинальные изображения и создаем копию, которая отсоединена от графа вычислений\n",
        "            perturbed_images.requires_grad = True\n",
        "\n",
        "            # Выполнить атаку FGSM\n",
        "            outputs = model(perturbed_images)\n",
        "            loss = torch.nn.functional.cross_entropy(outputs, labels)\n",
        "            model.zero_grad()\n",
        "            loss.backward()\n",
        "\n",
        "            data_grad = perturbed_images.grad.data\n",
        "            perturbed_images = perturbed_images + eps * data_grad.sign()\n",
        "            perturbed_images = torch.clamp(perturbed_images, min=clip_min, max=clip_max)\n",
        "\n",
        "            # Визуализация искаженных изображений\n",
        "            perturbed_img = perturbed_images[i].detach().cpu().squeeze().numpy()  #\n",
        "            axes[i, j + 1].imshow(perturbed_img, cmap='gray')\n",
        "            axes[i, j + 1].set_title(f\"FGSM eps={eps}\")\n",
        "            axes[i, j + 1].axis('off')\n",
        "\n",
        "    plt.tight_layout()\n",
        "    plt.show()\n",
        "\n",
        "# Визуализация примеров атак для модели LeNet_MNIST на наборе данных MNIST\n",
        "model = LeNet_MNIST().to(device)\n",
        "model.load_state_dict(torch.load('weights/clean/mnist_lenet.pth', map_location=torch.device('cpu')))\n",
        "\n",
        "eps_values = [0.001, 0.02, 0.2, 0.5, 0.9, 10]  # Определить значения эпсилон\n",
        "display_attack_examples(model, mnist_loader_test, eps_values, device, mnist_min, mnist_max)\n"
      ],
      "metadata": {
        "colab": {
          "base_uri": "https://localhost:8080/",
          "height": 1000
        },
        "id": "ZZkh-j-2mLLi",
        "outputId": "47946a87-63d3-4bd1-eb60-706208502e7d"
      },
      "execution_count": null,
      "outputs": [
        {
          "output_type": "display_data",
          "data": {
            "text/plain": [
              "<Figure size 1500x2500 with 35 Axes>"
            ],
            "image/png": "[encoded data removed]"
          },
          "metadata": {}
        }
      ]
    },
    {
      "cell_type": "markdown",
      "source": [
        "мы получаем графическое представление, показывающее оригинальные изображения из тестового набора MNIST и их искаженные версии после применения атаки FGSM с различными значениями параметра eps.\n",
        "\n",
        "На выходе отображено:\n",
        "\n",
        "* Сетка изображений: Для каждого оригинального изображения будет показан ряд с одним оригиналом и несколькими искаженными версиями, соответствующими различным значениям eps.\n",
        "\n",
        "* Оригинальные изображения: В первой колонке каждого ряда будут оригинальные изображения с соответствующей меткой (Label).\n",
        "\n",
        "* Искаженные изображения: В остальных колонках будут изображены версии оригинала, подвергшиеся атаке FGSM с заданными значениями eps (0.001, 0.02, 0.2, 0.5, 0.9 и 10). Каждый из этих искаженных вариантов будет заглавлен с указанием значения eps.\n",
        "\n",
        "* Отсутствие осей: Оси на графиках будут отключены для более чистого отображения изображений.\n"
      ],
      "metadata": {
        "id": "HdMpf78DtilC"
      }
    },
    {
      "cell_type": "markdown",
      "source": [
        "**Измерение точности модели LeNet_MNIST на MNIST-датасете до и после атаки с различными значениями eps в рамках FGSM атаки. Результаты отображаются в виде таблицы, показывающей, насколько снизилась точность модели после применения атак.**\n",
        "\n",
        "Функция оценивает точность модели как на чистых (без атак), так и на атакованных изображениях.На входе принимает модель, загрузчик данных (dataloader), устройство (device), минимальные и максимальные значения для ограничения значений пикселей (clip_min, clip_max), и значение eps."
      ],
      "metadata": {
        "id": "f90bW6Xvr0nL"
      }
    },
    {
      "cell_type": "code",
      "source": [
        "def evaluate_accuracy(model, dataloader, device, clip_min, clip_max, eps=None):\n",
        "    model.eval()  # Устанавливаем модель в режим оценки\n",
        "    correct = 0\n",
        "    total = 0\n",
        "    for images, labels in dataloader:  # Проходим по каждой партии данных из загрузчика\n",
        "        images, labels = images.to(device), labels.to(device)  # Переносим данные на устройство (например, GPU)\n",
        "\n",
        "        if eps is not None:\n",
        "            # Атака FGSM\n",
        "            images.requires_grad = True  # Включаем градиенты для изображений\n",
        "            outputs = model(images)  # Прогоняем модель на изображениях\n",
        "            loss = torch.nn.functional.cross_entropy(outputs, labels)  # Вычисляем функцию потерь\n",
        "            model.zero_grad()  # Обнуляем градиенты модели\n",
        "            loss.backward()  # Вычисляем градиенты по потерям\n",
        "            data_grad = images.grad.data  # Получаем градиенты изображений\n",
        "\n",
        "            # Создаем возмущенные изображения с использованием FGSM\n",
        "            images = images + eps * data_grad.sign()  # Применяем FGSM, используя знак градиента и значение eps\n",
        "            images = torch.clamp(images, clip_min, clip_max)  # Ограничиваем значения пикселей в пределах допустимого диапазона\n",
        "\n",
        "        outputs = model(images)  # Прогоняем модель на (возможно, возмущенных) изображениях\n",
        "        _, predicted = torch.max(outputs.data, 1)  # Определяем предсказанные классы\n",
        "        total += labels.size(0)  # Увеличиваем общее количество изображений\n",
        "        correct += (predicted == labels).sum().item()  # Подсчитываем количество правильных предсказаний\n",
        "\n",
        "    return 100 * correct / total  # Возвращаем точность в процентах\n",
        "\n",
        "# Оценка и сохранение результатов точности для различных значений epsilon\n",
        "results = {\"Model\": [], \"eps\": [], \"Accuracy Before Attack (%)\": [], \"Accuracy After Attack (%)\": []}  # Словарь для хранения результатов\n",
        "eps_values = [0.001, 0.02, 0.2, 0.5, 0.9, 10]  # Значения epsilon, используемые для FGSM атаки\n",
        "\n",
        "# Для модели LeNet_MNIST на датасете MNIST\n",
        "model = LeNet_MNIST().to(device)  # Создаем экземпляр модели и переносим на устройство\n",
        "model.load_state_dict(torch.load('weights/clean/mnist_lenet.pth', map_location=torch.device('cpu')))  # Загружаем сохраненные веса модели\n",
        "\n",
        "for eps in eps_values:  # Проходим по каждому значению epsilon\n",
        "    acc_before = evaluate_accuracy(model, mnist_loader_test, device, mnist_min, mnist_max)  # Оцениваем точность до атаки (чистые изображения)\n",
        "    acc_after = evaluate_accuracy(model, mnist_loader_test, device, mnist_min, mnist_max, eps=eps)  # Оцениваем точность после атаки\n",
        "\n",
        "    # Сохраняем результаты\n",
        "    results[\"Model\"].append(\"LeNet_MNIST\")\n",
        "    results[\"eps\"].append(eps)\n",
        "    results[\"Accuracy Before Attack (%)\"].append(acc_before)\n",
        "    results[\"Accuracy After Attack (%)\"].append(acc_after)\n",
        "\n",
        "# Преобразуем результаты в DataFrame и выводим на экран\n",
        "import pandas as pd\n",
        "df_results = pd.DataFrame(results)\n",
        "print(df_results)\n"
      ],
      "metadata": {
        "colab": {
          "base_uri": "https://localhost:8080/"
        },
        "id": "kPqMWaP_mm1f",
        "outputId": "b70d48d8-4a50-4abd-941b-40ced347f8ee"
      },
      "execution_count": null,
      "outputs": [
        {
          "output_type": "stream",
          "name": "stdout",
          "text": [
            "         Model     eps  Accuracy Before Attack (%)  Accuracy After Attack (%)\n",
            "0  LeNet_MNIST   0.001                       98.34                      98.31\n",
            "1  LeNet_MNIST   0.020                       98.34                      97.44\n",
            "2  LeNet_MNIST   0.200                       98.34                      63.33\n",
            "3  LeNet_MNIST   0.500                       98.34                      17.12\n",
            "4  LeNet_MNIST   0.900                       98.34                       6.19\n",
            "5  LeNet_MNIST  10.000                       98.34                       5.86\n"
          ]
        }
      ]
    },
    {
      "cell_type": "markdown",
      "source": [
        "* Model — название модели, используемой для оценки (в данном случае это LeNet_MNIST).\n",
        "* eps — значения epsilon, используемые в методе атаки FGSM. Это параметр, который определяет силу атаки, т.е. насколько сильно изменяются пиксели изображений.\n",
        "* Accuracy Before Attack (%) — процент точности модели на тестовом наборе до применения атаки FGSM. Это базовый показатель точности модели на чистых изображениях.\n",
        "* Accuracy After Attack (%) — процент точности модели на тестовом наборе после применения атаки FGSM. Это показатель того, насколько модель устойчива к атакам для каждого значения eps."
      ],
      "metadata": {
        "id": "RUX_QitxtG6o"
      }
    },
    {
      "cell_type": "markdown",
      "source": [
        "**Вывод:**\n",
        "\n",
        "В таблице представлены результаты тестирования модели LeNet_MNIST на наборе данных MNIST под воздействием FGSM-атаки (Fast Gradient Sign Method) с различными значениями параметра eps — интенсивности атаки. Вот ключевые выводы и интерпретация:\n",
        "\n",
        "**Accuracy Before Attack (%)** — точность модели до атаки остаётся высокой и стабильной (98.34%) независимо от значения eps, что говорит о том, что модель изначально хорошо классифицирует чистые (неатакованные) изображения.\n",
        "\n",
        "**Accuracy After Attack (%)** — точность модели после атаки снижается по мере увеличения значения eps. Это логично, так как с ростом eps возрастает и сила искажения, вносимого FGSM-атакой, что делает изображения более сложными для правильной классификации.\n",
        "\n",
        "**Анализ влияния eps:**\n",
        "\n",
        "* При очень малых значениях eps (0.001 и 0.02) точность модели практически не изменяется, что указывает на устойчивость модели к небольшим искажениям.\n",
        "* При среднем значении eps (0.2) точность значительно падает (до 63.33%), что означает, что атака начинает серьезно нарушать работу модели.\n",
        "* При высоких значениях eps (0.5 и выше) модель фактически не может справиться с классификацией, и точность падает до очень низких значений (около 6%).\n",
        "\n",
        "**Заключение:** Данная таблица наглядно демонстрирует снижение устойчивости модели LeNet по мере увеличения силы FGSM-атаки. Это важный результат для понимания границ надежности модели и её способности противостоять определённым уровням атак."
      ],
      "metadata": {
        "id": "rzmtOhAZLsvL"
      }
    }
  ]
}